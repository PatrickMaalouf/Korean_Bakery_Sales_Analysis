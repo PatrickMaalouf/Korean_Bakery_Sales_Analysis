{
 "cells": [
  {
   "cell_type": "markdown",
   "id": "de85daf6",
   "metadata": {},
   "source": [
    "# Korean Bakery Sales Analysis Report\n",
    "\n",
    "**Author:** Patrick MAALOUF\n",
    "**Date:** October 15, 2025\n",
    "\n",
    "---"
   ]
  },
  {
   "cell_type": "markdown",
   "id": "16f4b769",
   "metadata": {},
   "source": [
    "## 1. Introduction\n",
    "\n",
    "The goal of this analysis is to understand customer purchasing patterns at a small Korean bakery. By analyzing sales data from the \"Bea Min\" delivery platform, we will answer two key business questions:\n",
    "\n",
    "1.  **What are the bakery's best-selling products?**\n",
    "2.  **What are the peak sales periods (by day of the week and hour of the day)?**\n",
    "\n",
    "The insights from this report can help the bakery optimize inventory, schedule staff more effectively, and plan targeted promotions.01_Bakery_Sales_EDA"
   ]
  },
  {
   "cell_type": "code",
   "execution_count": 2,
   "id": "fc6a8461",
   "metadata": {},
   "outputs": [],
   "source": [
    "import pandas as pd\n",
    "import matplotlib.pyplot as plt\n",
    "import seaborn as sns\n",
    "\n",
    "# Set some styling for our plots\n",
    "sns.set_style('whitegrid')"
   ]
  },
  {
   "cell_type": "code",
   "execution_count": 3,
   "id": "e4bb412a",
   "metadata": {},
   "outputs": [],
   "source": [
    "# Load the dataset from the 01_Data folder\n",
    "df = pd.read_csv('../01_Data/bakery_data.csv')"
   ]
  },
  {
   "cell_type": "code",
   "execution_count": 4,
   "id": "4c6bb83c",
   "metadata": {},
   "outputs": [
    {
     "name": "stdout",
     "output_type": "stream",
     "text": [
      "<class 'pandas.core.frame.DataFrame'>\n",
      "RangeIndex: 2654 entries, 0 to 2653\n",
      "Data columns (total 27 columns):\n",
      " #   Column              Non-Null Count  Dtype  \n",
      "---  ------              --------------  -----  \n",
      " 0   datetime            2421 non-null   object \n",
      " 1   day of week         2420 non-null   object \n",
      " 2   total               2420 non-null   float64\n",
      " 3   place               2166 non-null   object \n",
      " 4   angbutter           1973 non-null   float64\n",
      " 5   plain bread         857 non-null    float64\n",
      " 6   jam                 220 non-null    float64\n",
      " 7   americano           412 non-null    float64\n",
      " 8   croissant           747 non-null    float64\n",
      " 9   caffe latte         193 non-null    float64\n",
      " 10  tiramisu croissant  779 non-null    float64\n",
      " 11  cacao deep          323 non-null    float64\n",
      " 12  pain au chocolat    587 non-null    float64\n",
      " 13  almond croissant    202 non-null    float64\n",
      " 14  croque monsieur     0 non-null      float64\n",
      " 15  mad garlic          0 non-null      float64\n",
      " 16  milk tea            137 non-null    float64\n",
      " 17  gateau chocolat     196 non-null    float64\n",
      " 18  pandoro             343 non-null    float64\n",
      " 19  cheese cake         90 non-null     float64\n",
      " 20  lemon ade           35 non-null     float64\n",
      " 21  orange pound        519 non-null    float64\n",
      " 22  wiener              355 non-null    float64\n",
      " 23  vanila latte        209 non-null    float64\n",
      " 24  berry ade           54 non-null     float64\n",
      " 25  tiramisu            7 non-null      float64\n",
      " 26  merinque cookies    47 non-null     float64\n",
      "dtypes: float64(24), object(3)\n",
      "memory usage: 560.0+ KB\n"
     ]
    },
    {
     "data": {
      "text/html": [
       "<div>\n",
       "<style scoped>\n",
       "    .dataframe tbody tr th:only-of-type {\n",
       "        vertical-align: middle;\n",
       "    }\n",
       "\n",
       "    .dataframe tbody tr th {\n",
       "        vertical-align: top;\n",
       "    }\n",
       "\n",
       "    .dataframe thead th {\n",
       "        text-align: right;\n",
       "    }\n",
       "</style>\n",
       "<table border=\"1\" class=\"dataframe\">\n",
       "  <thead>\n",
       "    <tr style=\"text-align: right;\">\n",
       "      <th></th>\n",
       "      <th>total</th>\n",
       "      <th>angbutter</th>\n",
       "      <th>plain bread</th>\n",
       "      <th>jam</th>\n",
       "      <th>americano</th>\n",
       "      <th>croissant</th>\n",
       "      <th>caffe latte</th>\n",
       "      <th>tiramisu croissant</th>\n",
       "      <th>cacao deep</th>\n",
       "      <th>pain au chocolat</th>\n",
       "      <th>...</th>\n",
       "      <th>gateau chocolat</th>\n",
       "      <th>pandoro</th>\n",
       "      <th>cheese cake</th>\n",
       "      <th>lemon ade</th>\n",
       "      <th>orange pound</th>\n",
       "      <th>wiener</th>\n",
       "      <th>vanila latte</th>\n",
       "      <th>berry ade</th>\n",
       "      <th>tiramisu</th>\n",
       "      <th>merinque cookies</th>\n",
       "    </tr>\n",
       "  </thead>\n",
       "  <tbody>\n",
       "    <tr>\n",
       "      <th>count</th>\n",
       "      <td>2.420000e+03</td>\n",
       "      <td>1973.000000</td>\n",
       "      <td>857.000000</td>\n",
       "      <td>220.000000</td>\n",
       "      <td>412.000000</td>\n",
       "      <td>747.000000</td>\n",
       "      <td>193.000000</td>\n",
       "      <td>779.000000</td>\n",
       "      <td>323.000000</td>\n",
       "      <td>587.000000</td>\n",
       "      <td>...</td>\n",
       "      <td>196.000000</td>\n",
       "      <td>343.000000</td>\n",
       "      <td>90.000000</td>\n",
       "      <td>35.000000</td>\n",
       "      <td>519.000000</td>\n",
       "      <td>355.000000</td>\n",
       "      <td>209.000000</td>\n",
       "      <td>54.000000</td>\n",
       "      <td>7.0</td>\n",
       "      <td>47.000000</td>\n",
       "    </tr>\n",
       "    <tr>\n",
       "      <th>mean</th>\n",
       "      <td>2.117252e+04</td>\n",
       "      <td>1.636594</td>\n",
       "      <td>1.199533</td>\n",
       "      <td>1.131818</td>\n",
       "      <td>1.245146</td>\n",
       "      <td>1.404284</td>\n",
       "      <td>1.108808</td>\n",
       "      <td>1.213094</td>\n",
       "      <td>1.126935</td>\n",
       "      <td>1.236797</td>\n",
       "      <td>...</td>\n",
       "      <td>1.071429</td>\n",
       "      <td>1.148688</td>\n",
       "      <td>1.022222</td>\n",
       "      <td>1.085714</td>\n",
       "      <td>1.090559</td>\n",
       "      <td>1.340845</td>\n",
       "      <td>1.153110</td>\n",
       "      <td>1.018519</td>\n",
       "      <td>1.0</td>\n",
       "      <td>1.042553</td>\n",
       "    </tr>\n",
       "    <tr>\n",
       "      <th>std</th>\n",
       "      <td>2.699727e+04</td>\n",
       "      <td>1.115636</td>\n",
       "      <td>0.510268</td>\n",
       "      <td>0.433617</td>\n",
       "      <td>0.527216</td>\n",
       "      <td>1.027704</td>\n",
       "      <td>0.373016</td>\n",
       "      <td>0.797350</td>\n",
       "      <td>0.393249</td>\n",
       "      <td>0.601598</td>\n",
       "      <td>...</td>\n",
       "      <td>0.258199</td>\n",
       "      <td>0.499757</td>\n",
       "      <td>0.148231</td>\n",
       "      <td>0.373491</td>\n",
       "      <td>0.306757</td>\n",
       "      <td>0.614692</td>\n",
       "      <td>0.523948</td>\n",
       "      <td>0.136083</td>\n",
       "      <td>0.0</td>\n",
       "      <td>0.204030</td>\n",
       "    </tr>\n",
       "    <tr>\n",
       "      <th>min</th>\n",
       "      <td>1.280000e+04</td>\n",
       "      <td>1.000000</td>\n",
       "      <td>1.000000</td>\n",
       "      <td>1.000000</td>\n",
       "      <td>1.000000</td>\n",
       "      <td>1.000000</td>\n",
       "      <td>1.000000</td>\n",
       "      <td>1.000000</td>\n",
       "      <td>1.000000</td>\n",
       "      <td>1.000000</td>\n",
       "      <td>...</td>\n",
       "      <td>1.000000</td>\n",
       "      <td>1.000000</td>\n",
       "      <td>1.000000</td>\n",
       "      <td>1.000000</td>\n",
       "      <td>1.000000</td>\n",
       "      <td>1.000000</td>\n",
       "      <td>1.000000</td>\n",
       "      <td>1.000000</td>\n",
       "      <td>1.0</td>\n",
       "      <td>1.000000</td>\n",
       "    </tr>\n",
       "    <tr>\n",
       "      <th>25%</th>\n",
       "      <td>1.580000e+04</td>\n",
       "      <td>1.000000</td>\n",
       "      <td>1.000000</td>\n",
       "      <td>1.000000</td>\n",
       "      <td>1.000000</td>\n",
       "      <td>1.000000</td>\n",
       "      <td>1.000000</td>\n",
       "      <td>1.000000</td>\n",
       "      <td>1.000000</td>\n",
       "      <td>1.000000</td>\n",
       "      <td>...</td>\n",
       "      <td>1.000000</td>\n",
       "      <td>1.000000</td>\n",
       "      <td>1.000000</td>\n",
       "      <td>1.000000</td>\n",
       "      <td>1.000000</td>\n",
       "      <td>1.000000</td>\n",
       "      <td>1.000000</td>\n",
       "      <td>1.000000</td>\n",
       "      <td>1.0</td>\n",
       "      <td>1.000000</td>\n",
       "    </tr>\n",
       "    <tr>\n",
       "      <th>50%</th>\n",
       "      <td>1.850000e+04</td>\n",
       "      <td>1.000000</td>\n",
       "      <td>1.000000</td>\n",
       "      <td>1.000000</td>\n",
       "      <td>1.000000</td>\n",
       "      <td>1.000000</td>\n",
       "      <td>1.000000</td>\n",
       "      <td>1.000000</td>\n",
       "      <td>1.000000</td>\n",
       "      <td>1.000000</td>\n",
       "      <td>...</td>\n",
       "      <td>1.000000</td>\n",
       "      <td>1.000000</td>\n",
       "      <td>1.000000</td>\n",
       "      <td>1.000000</td>\n",
       "      <td>1.000000</td>\n",
       "      <td>1.000000</td>\n",
       "      <td>1.000000</td>\n",
       "      <td>1.000000</td>\n",
       "      <td>1.0</td>\n",
       "      <td>1.000000</td>\n",
       "    </tr>\n",
       "    <tr>\n",
       "      <th>75%</th>\n",
       "      <td>2.300000e+04</td>\n",
       "      <td>2.000000</td>\n",
       "      <td>1.000000</td>\n",
       "      <td>1.000000</td>\n",
       "      <td>1.000000</td>\n",
       "      <td>2.000000</td>\n",
       "      <td>1.000000</td>\n",
       "      <td>1.000000</td>\n",
       "      <td>1.000000</td>\n",
       "      <td>1.000000</td>\n",
       "      <td>...</td>\n",
       "      <td>1.000000</td>\n",
       "      <td>1.000000</td>\n",
       "      <td>1.000000</td>\n",
       "      <td>1.000000</td>\n",
       "      <td>1.000000</td>\n",
       "      <td>2.000000</td>\n",
       "      <td>1.000000</td>\n",
       "      <td>1.000000</td>\n",
       "      <td>1.0</td>\n",
       "      <td>1.000000</td>\n",
       "    </tr>\n",
       "    <tr>\n",
       "      <th>max</th>\n",
       "      <td>1.293000e+06</td>\n",
       "      <td>11.000000</td>\n",
       "      <td>5.000000</td>\n",
       "      <td>5.000000</td>\n",
       "      <td>5.000000</td>\n",
       "      <td>16.000000</td>\n",
       "      <td>3.000000</td>\n",
       "      <td>14.000000</td>\n",
       "      <td>4.000000</td>\n",
       "      <td>6.000000</td>\n",
       "      <td>...</td>\n",
       "      <td>2.000000</td>\n",
       "      <td>5.000000</td>\n",
       "      <td>2.000000</td>\n",
       "      <td>3.000000</td>\n",
       "      <td>4.000000</td>\n",
       "      <td>6.000000</td>\n",
       "      <td>4.000000</td>\n",
       "      <td>2.000000</td>\n",
       "      <td>1.0</td>\n",
       "      <td>2.000000</td>\n",
       "    </tr>\n",
       "  </tbody>\n",
       "</table>\n",
       "<p>8 rows × 24 columns</p>\n",
       "</div>"
      ],
      "text/plain": [
       "              total    angbutter  plain bread         jam   americano  \\\n",
       "count  2.420000e+03  1973.000000   857.000000  220.000000  412.000000   \n",
       "mean   2.117252e+04     1.636594     1.199533    1.131818    1.245146   \n",
       "std    2.699727e+04     1.115636     0.510268    0.433617    0.527216   \n",
       "min    1.280000e+04     1.000000     1.000000    1.000000    1.000000   \n",
       "25%    1.580000e+04     1.000000     1.000000    1.000000    1.000000   \n",
       "50%    1.850000e+04     1.000000     1.000000    1.000000    1.000000   \n",
       "75%    2.300000e+04     2.000000     1.000000    1.000000    1.000000   \n",
       "max    1.293000e+06    11.000000     5.000000    5.000000    5.000000   \n",
       "\n",
       "        croissant  caffe latte  tiramisu croissant  cacao deep  \\\n",
       "count  747.000000   193.000000          779.000000  323.000000   \n",
       "mean     1.404284     1.108808            1.213094    1.126935   \n",
       "std      1.027704     0.373016            0.797350    0.393249   \n",
       "min      1.000000     1.000000            1.000000    1.000000   \n",
       "25%      1.000000     1.000000            1.000000    1.000000   \n",
       "50%      1.000000     1.000000            1.000000    1.000000   \n",
       "75%      2.000000     1.000000            1.000000    1.000000   \n",
       "max     16.000000     3.000000           14.000000    4.000000   \n",
       "\n",
       "       pain au chocolat  ...  gateau chocolat     pandoro  cheese cake  \\\n",
       "count        587.000000  ...       196.000000  343.000000    90.000000   \n",
       "mean           1.236797  ...         1.071429    1.148688     1.022222   \n",
       "std            0.601598  ...         0.258199    0.499757     0.148231   \n",
       "min            1.000000  ...         1.000000    1.000000     1.000000   \n",
       "25%            1.000000  ...         1.000000    1.000000     1.000000   \n",
       "50%            1.000000  ...         1.000000    1.000000     1.000000   \n",
       "75%            1.000000  ...         1.000000    1.000000     1.000000   \n",
       "max            6.000000  ...         2.000000    5.000000     2.000000   \n",
       "\n",
       "       lemon ade  orange pound      wiener  vanila latte  berry ade  tiramisu  \\\n",
       "count  35.000000    519.000000  355.000000    209.000000  54.000000       7.0   \n",
       "mean    1.085714      1.090559    1.340845      1.153110   1.018519       1.0   \n",
       "std     0.373491      0.306757    0.614692      0.523948   0.136083       0.0   \n",
       "min     1.000000      1.000000    1.000000      1.000000   1.000000       1.0   \n",
       "25%     1.000000      1.000000    1.000000      1.000000   1.000000       1.0   \n",
       "50%     1.000000      1.000000    1.000000      1.000000   1.000000       1.0   \n",
       "75%     1.000000      1.000000    2.000000      1.000000   1.000000       1.0   \n",
       "max     3.000000      4.000000    6.000000      4.000000   2.000000       1.0   \n",
       "\n",
       "       merinque cookies  \n",
       "count         47.000000  \n",
       "mean           1.042553  \n",
       "std            0.204030  \n",
       "min            1.000000  \n",
       "25%            1.000000  \n",
       "50%            1.000000  \n",
       "75%            1.000000  \n",
       "max            2.000000  \n",
       "\n",
       "[8 rows x 24 columns]"
      ]
     },
     "execution_count": 4,
     "metadata": {},
     "output_type": "execute_result"
    }
   ],
   "source": [
    "# See the first 5 rows\n",
    "df.head()\n",
    "\n",
    "# Get a summary of all columns, data types, and non-null counts\n",
    "df.info()\n",
    "\n",
    "# Get descriptive statistics for numerical columns\n",
    "df.describe()"
   ]
  },
  {
   "cell_type": "markdown",
   "id": "72579b63",
   "metadata": {},
   "source": [
    "## 2. Data Preparation\n",
    "\n",
    "Before analysis, the raw data must be cleaned and prepared. The following steps were taken:\n",
    "\n",
    "* **Handling Missing Values:** Null values in product columns mean an item was not purchased, so they were filled with `0`. Nulls in the `place` column were filled with `\"N/A\"`. Rows with missing core data like `datetime` or `total` were removed to ensure accuracy.\n",
    "* **Correcting Data Types:** The `datetime` column was converted from text to a proper datetime format.\n",
    "* **Feature Engineering:** New columns (`hour`, `month`, `year`) were created from the `datetime` column to enable time-based analysis."
   ]
  },
  {
   "cell_type": "code",
   "execution_count": 5,
   "id": "aef468fb",
   "metadata": {},
   "outputs": [
    {
     "name": "stdout",
     "output_type": "stream",
     "text": [
      "<class 'pandas.core.frame.DataFrame'>\n",
      "RangeIndex: 2654 entries, 0 to 2653\n",
      "Data columns (total 27 columns):\n",
      " #   Column              Non-Null Count  Dtype         \n",
      "---  ------              --------------  -----         \n",
      " 0   datetime            2421 non-null   datetime64[ns]\n",
      " 1   day of week         2420 non-null   object        \n",
      " 2   total               2420 non-null   float64       \n",
      " 3   place               2166 non-null   object        \n",
      " 4   angbutter           1973 non-null   float64       \n",
      " 5   plain bread         857 non-null    float64       \n",
      " 6   jam                 220 non-null    float64       \n",
      " 7   americano           412 non-null    float64       \n",
      " 8   croissant           747 non-null    float64       \n",
      " 9   caffe latte         193 non-null    float64       \n",
      " 10  tiramisu croissant  779 non-null    float64       \n",
      " 11  cacao deep          323 non-null    float64       \n",
      " 12  pain au chocolat    587 non-null    float64       \n",
      " 13  almond croissant    202 non-null    float64       \n",
      " 14  croque monsieur     0 non-null      float64       \n",
      " 15  mad garlic          0 non-null      float64       \n",
      " 16  milk tea            137 non-null    float64       \n",
      " 17  gateau chocolat     196 non-null    float64       \n",
      " 18  pandoro             343 non-null    float64       \n",
      " 19  cheese cake         90 non-null     float64       \n",
      " 20  lemon ade           35 non-null     float64       \n",
      " 21  orange pound        519 non-null    float64       \n",
      " 22  wiener              355 non-null    float64       \n",
      " 23  vanila latte        209 non-null    float64       \n",
      " 24  berry ade           54 non-null     float64       \n",
      " 25  tiramisu            7 non-null      float64       \n",
      " 26  merinque cookies    47 non-null     float64       \n",
      "dtypes: datetime64[ns](1), float64(24), object(2)\n",
      "memory usage: 560.0+ KB\n"
     ]
    }
   ],
   "source": [
    "df['datetime'] = pd.to_datetime(df['datetime'])\n",
    "df.info() # Run info() again to confirm the change"
   ]
  },
  {
   "cell_type": "code",
   "execution_count": 6,
   "id": "386f9933",
   "metadata": {},
   "outputs": [],
   "source": [
    "df['hour'] = df['datetime'].dt.hour\n",
    "df['month'] = df['datetime'].dt.month\n",
    "df['year'] = df['datetime'].dt.year"
   ]
  },
  {
   "cell_type": "code",
   "execution_count": 7,
   "id": "89c4e375",
   "metadata": {},
   "outputs": [
    {
     "data": {
      "text/plain": [
       "datetime               233\n",
       "day of week            234\n",
       "total                  234\n",
       "place                  488\n",
       "angbutter              681\n",
       "plain bread           1797\n",
       "jam                   2434\n",
       "americano             2242\n",
       "croissant             1907\n",
       "caffe latte           2461\n",
       "tiramisu croissant    1875\n",
       "cacao deep            2331\n",
       "pain au chocolat      2067\n",
       "almond croissant      2452\n",
       "croque monsieur       2654\n",
       "mad garlic            2654\n",
       "milk tea              2517\n",
       "gateau chocolat       2458\n",
       "pandoro               2311\n",
       "cheese cake           2564\n",
       "lemon ade             2619\n",
       "orange pound          2135\n",
       "wiener                2299\n",
       "vanila latte          2445\n",
       "berry ade             2600\n",
       "tiramisu              2647\n",
       "merinque cookies      2607\n",
       "hour                   233\n",
       "month                  233\n",
       "year                   233\n",
       "dtype: int64"
      ]
     },
     "execution_count": 7,
     "metadata": {},
     "output_type": "execute_result"
    }
   ],
   "source": [
    "df.isnull().sum()"
   ]
  },
  {
   "cell_type": "code",
   "execution_count": 8,
   "id": "534e9f8b",
   "metadata": {},
   "outputs": [],
   "source": [
    "# Create a list of all your product columns\n",
    "product_columns = [\n",
    "    'angbutter', 'plain bread', 'jam', 'americano', 'croissant', 'caffe latte',\n",
    "    'tiramisu croissant', 'cacao deep', 'pain au chocolat', 'almond croissant',\n",
    "    'croque monsieur', 'mad garlic', 'milk tea', 'gateau chocolat', 'pandoro',\n",
    "    'cheese cake', 'lemon ade', 'orange pound', 'wiener', 'vanila latte',\n",
    "    'berry ade', 'tiramisu', 'merinque cookies'\n",
    "]\n",
    "\n",
    "# Replace null values in these columns with 0\n",
    "df[product_columns] = df[product_columns].fillna(0)"
   ]
  },
  {
   "cell_type": "code",
   "execution_count": 9,
   "id": "26e67e34",
   "metadata": {},
   "outputs": [],
   "source": [
    "# Drop rows where 'datetime' or 'total' is missing\n",
    "df.dropna(subset=['datetime', 'total'], inplace=True)"
   ]
  },
  {
   "cell_type": "code",
   "execution_count": 10,
   "id": "86598b35",
   "metadata": {},
   "outputs": [],
   "source": [
    "df['place'] = df['place'].fillna('N/A')"
   ]
  },
  {
   "cell_type": "code",
   "execution_count": 11,
   "id": "eab7041c",
   "metadata": {},
   "outputs": [
    {
     "name": "stdout",
     "output_type": "stream",
     "text": [
      "Missing values after cleaning:\n",
      "datetime              0\n",
      "day of week           0\n",
      "total                 0\n",
      "place                 0\n",
      "angbutter             0\n",
      "plain bread           0\n",
      "jam                   0\n",
      "americano             0\n",
      "croissant             0\n",
      "caffe latte           0\n",
      "tiramisu croissant    0\n",
      "cacao deep            0\n",
      "pain au chocolat      0\n",
      "almond croissant      0\n",
      "croque monsieur       0\n",
      "mad garlic            0\n",
      "milk tea              0\n",
      "gateau chocolat       0\n",
      "pandoro               0\n",
      "cheese cake           0\n",
      "lemon ade             0\n",
      "orange pound          0\n",
      "wiener                0\n",
      "vanila latte          0\n",
      "berry ade             0\n",
      "tiramisu              0\n",
      "merinque cookies      0\n",
      "hour                  0\n",
      "month                 0\n",
      "year                  0\n",
      "dtype: int64\n"
     ]
    }
   ],
   "source": [
    "print(\"Missing values after cleaning:\")\n",
    "print(df.isnull().sum())"
   ]
  },
  {
   "cell_type": "markdown",
   "id": "4ed19877",
   "metadata": {},
   "source": [
    "## 3. Analysis & Findings\n",
    "\n",
    "With the data cleaned, we can now analyze it to answer our key questions."
   ]
  },
  {
   "cell_type": "code",
   "execution_count": 12,
   "id": "83c374a4",
   "metadata": {},
   "outputs": [
    {
     "name": "stdout",
     "output_type": "stream",
     "text": [
      "Total Sales per Product:\n",
      "angbutter             3229.0\n",
      "croissant             1049.0\n",
      "plain bread           1028.0\n",
      "tiramisu croissant     945.0\n",
      "pain au chocolat       726.0\n",
      "orange pound           566.0\n",
      "americano              513.0\n",
      "wiener                 476.0\n",
      "pandoro                394.0\n",
      "cacao deep             364.0\n",
      "jam                    249.0\n",
      "vanila latte           241.0\n",
      "almond croissant       235.0\n",
      "caffe latte            214.0\n",
      "gateau chocolat        210.0\n",
      "milk tea               160.0\n",
      "cheese cake             92.0\n",
      "berry ade               55.0\n",
      "merinque cookies        49.0\n",
      "lemon ade               38.0\n",
      "tiramisu                 7.0\n",
      "mad garlic               0.0\n",
      "croque monsieur          0.0\n",
      "dtype: float64\n"
     ]
    }
   ],
   "source": [
    "# Select only the product columns (from 'angbutter' to 'merinque cookies') and sum them up\n",
    "product_sales = df.loc[:, 'angbutter':'merinque cookies'].sum().sort_values(ascending=False)\n",
    "\n",
    "print(\"Total Sales per Product:\")\n",
    "print(product_sales)"
   ]
  },
  {
   "cell_type": "code",
   "execution_count": 13,
   "id": "40b5230b",
   "metadata": {},
   "outputs": [
    {
     "name": "stderr",
     "output_type": "stream",
     "text": [
      "C:\\Users\\Admin\\AppData\\Local\\Temp\\ipykernel_7608\\3232793782.py:2: FutureWarning: \n",
      "\n",
      "Passing `palette` without assigning `hue` is deprecated and will be removed in v0.14.0. Assign the `y` variable to `hue` and set `legend=False` for the same effect.\n",
      "\n",
      "  sns.barplot(x=product_sales.head(10).values, y=product_sales.head(10).index, palette='viridis')\n"
     ]
    },
    {
     "data": {
      "image/png": "[encoded data removed]",
      "text/plain": [
       "<Figure size 1000x800 with 1 Axes>"
      ]
     },
     "metadata": {},
     "output_type": "display_data"
    }
   ],
   "source": [
    "plt.figure(figsize=(10, 8))\n",
    "sns.barplot(x=product_sales.head(10).values, y=product_sales.head(10).index, palette='viridis')\n",
    "plt.title('Top 10 Best-Selling Products', fontsize=16)\n",
    "plt.xlabel('Total Quantity Sold', fontsize=12)\n",
    "plt.ylabel('Product', fontsize=12)\n",
    "\n",
    "# Save the chart to your visualizations folder\n",
    "plt.savefig('../04_Visualizations/top_10_products.png', bbox_inches='tight')\n",
    "\n",
    "plt.show()"
   ]
  },
  {
   "cell_type": "markdown",
   "id": "cd45e36d",
   "metadata": {},
   "source": [
    "**Finding:** The analysis clearly shows that **Angbutter** is the most popular product by a significant margin. **Plain Bread** and **Americano** are also very popular items. This suggests these are the bakery's signature products."
   ]
  },
  {
   "cell_type": "code",
   "execution_count": 14,
   "id": "4570a61b",
   "metadata": {},
   "outputs": [
    {
     "name": "stdout",
     "output_type": "stream",
     "text": [
      "Number of Orders by Day of Week:\n",
      "day of week\n",
      "Mon    332.0\n",
      "Wed    360.0\n",
      "Thu      NaN\n",
      "Fri    334.0\n",
      "Sat    452.0\n",
      "Sun    554.0\n",
      "Name: count, dtype: float64\n"
     ]
    }
   ],
   "source": [
    "# Orders per day of the week\n",
    "orders_by_day = df['day of week'].value_counts()\n",
    "\n",
    "# Define the correct order for the days\n",
    "day_order = ['Mon', 'Wed', 'Thu', 'Fri', 'Sat', 'Sun']\n",
    "orders_by_day = orders_by_day.reindex(day_order)\n",
    "\n",
    "print(\"Number of Orders by Day of Week:\")\n",
    "print(orders_by_day)"
   ]
  },
  {
   "cell_type": "code",
   "execution_count": 15,
   "id": "972a5112",
   "metadata": {},
   "outputs": [
    {
     "name": "stderr",
     "output_type": "stream",
     "text": [
      "C:\\Users\\Admin\\AppData\\Local\\Temp\\ipykernel_7608\\1455983824.py:2: FutureWarning: \n",
      "\n",
      "Passing `palette` without assigning `hue` is deprecated and will be removed in v0.14.0. Assign the `x` variable to `hue` and set `legend=False` for the same effect.\n",
      "\n",
      "  sns.barplot(x=orders_by_day.index, y=orders_by_day.values, palette='plasma')\n"
     ]
    },
    {
     "data": {
      "image/png": "[encoded data removed]",
      "text/plain": [
       "<Figure size 1000x600 with 1 Axes>"
      ]
     },
     "metadata": {},
     "output_type": "display_data"
    }
   ],
   "source": [
    "plt.figure(figsize=(10, 6))\n",
    "sns.barplot(x=orders_by_day.index, y=orders_by_day.values, palette='plasma')\n",
    "plt.title('Total Orders by Day of the Week', fontsize=16)\n",
    "plt.xlabel('Day of Week', fontsize=12)\n",
    "plt.ylabel('Number of Orders', fontsize=12)\n",
    "\n",
    "plt.savefig('../04_Visualizations/orders_by_day.png', bbox_inches='tight')\n",
    "\n",
    "plt.show()"
   ]
  },
  {
   "cell_type": "markdown",
   "id": "d5ff3b5f",
   "metadata": {},
   "source": [
    "**Finding:** The busiest day for the bakery is **Saturday**, followed by Sunday and Friday. Sales are significantly lower on weekdays, with Monday being the quietest. This highlights the importance of the weekend for business."
   ]
  },
  {
   "cell_type": "code",
   "execution_count": 16,
   "id": "6f6214fe",
   "metadata": {},
   "outputs": [
    {
     "name": "stdout",
     "output_type": "stream",
     "text": [
      "Number of Orders by Hour of Day:\n",
      "hour\n",
      "11.0    706\n",
      "12.0    552\n",
      "13.0    446\n",
      "14.0    343\n",
      "15.0    219\n",
      "16.0    125\n",
      "17.0     27\n",
      "22.0      1\n",
      "23.0      1\n",
      "Name: count, dtype: int64\n"
     ]
    }
   ],
   "source": [
    "orders_by_hour = df['hour'].value_counts().sort_index()\n",
    "\n",
    "print(\"Number of Orders by Hour of Day:\")\n",
    "print(orders_by_hour)"
   ]
  },
  {
   "cell_type": "code",
   "execution_count": 17,
   "id": "f8fab138",
   "metadata": {},
   "outputs": [
    {
     "data": {
      "image/png": "[encoded data removed]",
      "text/plain": [
       "<Figure size 1200x600 with 1 Axes>"
      ]
     },
     "metadata": {},
     "output_type": "display_data"
    }
   ],
   "source": [
    "plt.figure(figsize=(12, 6))\n",
    "sns.lineplot(x=orders_by_hour.index, y=orders_by_hour.values, marker='o')\n",
    "plt.title('Total Orders by Hour of the Day', fontsize=16)\n",
    "plt.xlabel('Hour of the Day (24-hour format)', fontsize=12)\n",
    "plt.ylabel('Number of Orders', fontsize=12)\n",
    "plt.xticks(range(0, 24)) # Ensure all hours are shown on the x-axis\n",
    "\n",
    "plt.savefig('../04_Visualizations/orders_by_hour.png', bbox_inches='tight')\n",
    "\n",
    "plt.show()"
   ]
  },
  {
   "cell_type": "markdown",
   "id": "00eefbcd",
   "metadata": {},
   "source": [
    "**Finding:** The data shows a clear sales peak in the afternoon. The busiest period is between **11:00 AM and 3:00 PM (15)**, which is likely lunchtime and the afternoon coffee break for customers."
   ]
  },
  {
   "cell_type": "markdown",
   "id": "69af3a34",
   "metadata": {},
   "source": [
    "## 4. Conclusion & Recommendations 💡\n",
    "\n",
    "This analysis of the bakery's sales data provides clear, actionable insights.\n",
    "\n",
    "**Summary of Findings:**\n",
    "* **Top Products:** The most popular items are **Angbutter**, **Plain Bread**, and **Americano**.\n",
    "* **Busiest Day:** **Saturday** is the day with the highest number of orders.\n",
    "* **Peak Hours:** The busiest time of day is from **11:00 AM to 3:00 PM**.\n",
    "\n",
    "**Recommendations for the Bakery:**\n",
    "1.  **Inventory Management:** Ensure high stock levels of Angbutter and Plain Bread, especially before the weekend, to meet customer demand and avoid selling out.\n",
    "2.  **Staffing:** Schedule more staff on Saturdays and during the 11-3 PM peak window to manage order preparation and delivery coordination efficiently.\n",
    "3.  **Marketing & Promotions:** Consider running a \"Weekday Morning Special\" to boost sales during slower periods. Promotions on the delivery app could be targeted to appear just before the 1 PM peak to capture customer attention."
   ]
  }
 ],
 "metadata": {
  "kernelspec": {
   "display_name": "Python 3",
   "language": "python",
   "name": "python3"
  },
  "language_info": {
   "codemirror_mode": {
    "name": "ipython",
    "version": 3
   },
   "file_extension": ".py",
   "mimetype": "text/x-python",
   "name": "python",
   "nbconvert_exporter": "python",
   "pygments_lexer": "ipython3",
   "version": "3.13.2"
  }
 },
 "nbformat": 4,
 "nbformat_minor": 5
}
